{
 "cells": [
  {
   "cell_type": "markdown",
   "metadata": {},
   "source": [
    "# Lab 01 : Cross-entropy loss -- demo"
   ]
  },
  {
   "cell_type": "code",
   "execution_count": 14,
   "metadata": {},
   "outputs": [],
   "source": [
    "# For Google Colaboratory\n",
    "import sys, os\n",
    "if 'google.colab' in sys.modules:\n",
    "    from google.colab import drive\n",
    "    drive.mount('/content/gdrive')\n",
    "    file_name = 'cross_entropy_demo.ipynb'\n",
    "    import subprocess\n",
    "    path_to_file = subprocess.check_output('find . -type f -name ' + str(file_name), shell=True).decode(\"utf-8\")\n",
    "    print(path_to_file)\n",
    "    path_to_file = path_to_file.replace(file_name,\"\").replace('\\n',\"\")\n",
    "    os.chdir(path_to_file)\n",
    "    !pwd"
   ]
  },
  {
   "cell_type": "code",
   "execution_count": 15,
   "metadata": {},
   "outputs": [],
   "source": [
    "import torch\n",
    "import torch.nn as nn\n",
    "import torch.nn.functional as F\n",
    "import utils"
   ]
  },
  {
   "cell_type": "markdown",
   "metadata": {},
   "source": [
    "### Make a Cross Entropy Criterion and call it mycrit "
   ]
  },
  {
   "cell_type": "code",
   "execution_count": 16,
   "metadata": {},
   "outputs": [
    {
     "name": "stdout",
     "output_type": "stream",
     "text": [
      "CrossEntropyLoss()\n"
     ]
    }
   ],
   "source": [
    "mycrit=nn.CrossEntropyLoss()\n",
    "print(mycrit)"
   ]
  },
  {
   "cell_type": "markdown",
   "metadata": {},
   "source": [
    "### Make a batch of labels"
   ]
  },
  {
   "cell_type": "code",
   "execution_count": 17,
   "metadata": {},
   "outputs": [
    {
     "name": "stdout",
     "output_type": "stream",
     "text": [
      "tensor([2, 3])\n"
     ]
    }
   ],
   "source": [
    "labels=torch.LongTensor([2,3])\n",
    "\n",
    "print(labels)"
   ]
  },
  {
   "cell_type": "markdown",
   "metadata": {},
   "source": [
    "### Make a batch of scores"
   ]
  },
  {
   "cell_type": "code",
   "execution_count": 18,
   "metadata": {},
   "outputs": [
    {
     "name": "stdout",
     "output_type": "stream",
     "text": [
      "tensor([[-1.2000,  0.5000,  5.0000, -0.5000],\n",
      "        [ 1.4000, -1.7000, -1.3000,  5.0000]])\n"
     ]
    }
   ],
   "source": [
    "scores=torch.Tensor([ [-1.2, 0.5 , 5, -0.5], [1.4, -1.7 , -1.3, 5.0] ])\n",
    "\n",
    "print(scores)"
   ]
  },
  {
   "cell_type": "code",
   "execution_count": 19,
   "metadata": {},
   "outputs": [
    {
     "data": {
      "image/png": "[encoded data removed]",
      "text/plain": [
       "<Figure size 576x576 with 2 Axes>"
      ]
     },
     "metadata": {},
     "output_type": "display_data"
    }
   ],
   "source": [
    "utils.display_scores(scores)"
   ]
  },
  {
   "cell_type": "markdown",
   "metadata": {},
   "source": [
    "### compute the average loss on this batch"
   ]
  },
  {
   "cell_type": "code",
   "execution_count": 20,
   "metadata": {},
   "outputs": [
    {
     "name": "stdout",
     "output_type": "stream",
     "text": [
      "loss =  0.023508397862315178\n"
     ]
    }
   ],
   "source": [
    "average_loss = mycrit(scores,labels)\n",
    "\n",
    "print('loss = ', average_loss.item() )"
   ]
  },
  {
   "cell_type": "code",
   "execution_count": 28,
   "metadata": {},
   "outputs": [
    {
     "name": "stdout",
     "output_type": "stream",
     "text": [
      "tensor([[-1.2000,  0.5000,  5.0000, -0.5000],\n",
      "        [ 1.4000, -1.7000, -1.3000,  5.0000]]) \n",
      "\n",
      "tensor([[0.0020, 0.0109, 0.9831, 0.0040],\n",
      "        [0.0265, 0.0012, 0.0018, 0.9705]]) \n",
      "\n",
      "tensor([[-6.2171, -4.5171, -0.0171, -5.5171],\n",
      "        [-3.6299, -6.7299, -6.3299, -0.0299]]) \n",
      "\n",
      "0.023508397862315178\n"
     ]
    }
   ],
   "source": [
    "print(scores, '\\n')\n",
    "s = F.softmax(scores, dim=1)\n",
    "print(s, '\\n')\n",
    "p = F.log_softmax(scores, dim=1)\n",
    "print(p, '\\n')\n",
    "loss = 1/2 * (- p[0][2] - p[1][3])\n",
    "print(loss.item())"
   ]
  },
  {
   "cell_type": "markdown",
   "metadata": {},
   "source": [
    "### Try with a different batch of scores"
   ]
  },
  {
   "cell_type": "code",
   "execution_count": 7,
   "metadata": {},
   "outputs": [
    {
     "name": "stdout",
     "output_type": "stream",
     "text": [
      "tensor([[-1.2000,  0.5000,  3.1000, -0.5000],\n",
      "        [ 1.4000, -1.7000, -1.3000,  2.0000]])\n"
     ]
    },
    {
     "data": {
      "image/png": "[encoded data removed]",
      "text/plain": [
       "<Figure size 576x576 with 2 Axes>"
      ]
     },
     "metadata": {},
     "output_type": "display_data"
    },
    {
     "name": "stdout",
     "output_type": "stream",
     "text": [
      "loss =  0.2927485704421997\n"
     ]
    }
   ],
   "source": [
    "scores=torch.Tensor([ [-1.2, 0.5 , 3.1, -0.5], [1.4, -1.7 , -1.3, 2.0] ])\n",
    "\n",
    "print(scores)\n",
    "\n",
    "utils.display_scores(scores)\n",
    "\n",
    "average_loss = mycrit(scores,labels)\n",
    "\n",
    "print('loss = ', average_loss.item() )"
   ]
  },
  {
   "cell_type": "markdown",
   "metadata": {},
   "source": [
    "### Try with a different batch of scores"
   ]
  },
  {
   "cell_type": "code",
   "execution_count": 8,
   "metadata": {},
   "outputs": [
    {
     "name": "stdout",
     "output_type": "stream",
     "text": [
      "tensor([[ 0.8000,  2.3000, -1.0000, -1.2000],\n",
      "        [-1.2000,  1.3000,  5.0000, -2.0000]])\n"
     ]
    },
    {
     "data": {
      "image/png": "[encoded data removed]",
      "text/plain": [
       "<Figure size 576x576 with 2 Axes>"
      ]
     },
     "metadata": {},
     "output_type": "display_data"
    },
    {
     "name": "stdout",
     "output_type": "stream",
     "text": [
      "loss =  5.291047096252441\n"
     ]
    }
   ],
   "source": [
    "scores=torch.Tensor([[0.8, 2.3, -1.0, -1.2] , [-1.2, 1.3, 5.0 , -2.0 ] ]  )\n",
    "\n",
    "print(scores)\n",
    "\n",
    "utils.display_scores(scores)\n",
    "\n",
    "average_loss = mycrit(scores,labels)\n",
    "\n",
    "print('loss = ', average_loss.item() )"
   ]
  },
  {
   "cell_type": "code",
   "execution_count": 8,
   "metadata": {},
   "outputs": [
    {
     "name": "stdout",
     "output_type": "stream",
     "text": [
      "tensor([[1.9754e-03, 2.4065e-02, 5.9497e-04, 9.7336e-01]])\n"
     ]
    }
   ],
   "source": [
    "s = torch.Tensor([[-1.2, 1.3, -2.4, 5]])\n",
    "p = F.softmax(s, dim=1)\n",
    "print(p)"
   ]
  }
 ],
 "metadata": {
  "kernelspec": {
   "display_name": "Python 3",
   "language": "python",
   "name": "python3"
  },
  "language_info": {
   "codemirror_mode": {
    "name": "ipython",
    "version": 3
   },
   "file_extension": ".py",
   "mimetype": "text/x-python",
   "name": "python",
   "nbconvert_exporter": "python",
   "pygments_lexer": "ipython3",
   "version": "3.7.4"
  }
 },
 "nbformat": 4,
 "nbformat_minor": 2
}
