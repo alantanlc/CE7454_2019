{
 "cells": [
  {
   "cell_type": "markdown",
   "metadata": {},
   "source": [
    "# Lab 02 : Softmax function -- demo"
   ]
  },
  {
   "cell_type": "code",
   "execution_count": 2,
   "metadata": {},
   "outputs": [],
   "source": [
    "import sys, os"
   ]
  },
  {
   "cell_type": "code",
   "execution_count": 3,
   "metadata": {},
   "outputs": [],
   "source": [
    "import torch\n",
    "import torch.nn.functional as F"
   ]
  },
  {
   "cell_type": "markdown",
   "metadata": {},
   "source": [
    "### Make a vector"
   ]
  },
  {
   "cell_type": "code",
   "execution_count": 4,
   "metadata": {},
   "outputs": [
    {
     "name": "stdout",
     "output_type": "stream",
     "text": [
      "tensor([-2.0000, -0.5000,  2.0000,  1.5000])\n",
      "torch.Size([4])\n"
     ]
    }
   ],
   "source": [
    "x = torch.Tensor([-2, -0.5, 2.0, 1.5])\n",
    "print(x)\n",
    "print(x.size())"
   ]
  },
  {
   "cell_type": "markdown",
   "metadata": {},
   "source": [
    "### Feed it to the softmax"
   ]
  },
  {
   "cell_type": "code",
   "execution_count": 12,
   "metadata": {},
   "outputs": [
    {
     "name": "stdout",
     "output_type": "stream",
     "text": [
      "tensor([0.0107, 0.0481, 0.5858, 0.3553])\n",
      "torch.Size([4])\n"
     ]
    }
   ],
   "source": [
    "p = F.softmax(x, dim = 0)\n",
    "print(p)\n",
    "print(p.size())"
   ]
  },
  {
   "cell_type": "markdown",
   "metadata": {},
   "source": [
    "### Check that it sums to one"
   ]
  },
  {
   "cell_type": "code",
   "execution_count": 11,
   "metadata": {},
   "outputs": [
    {
     "name": "stdout",
     "output_type": "stream",
     "text": [
      "0.9999\n",
      "tensor(1.)\n"
     ]
    }
   ],
   "source": [
    "p = F.softmax(A, dim = 1)\n",
    "2\n",
    "print(0.0107+0.0481+0.5858+0.3553)\n",
    "print(p.sum())"
   ]
  },
  {
   "cell_type": "markdown",
   "metadata": {},
   "source": [
    "### Make a matrix a matrix"
   ]
  },
  {
   "cell_type": "code",
   "execution_count": 15,
   "metadata": {},
   "outputs": [
    {
     "name": "stdout",
     "output_type": "stream",
     "text": [
      "tensor([[-2.0000, -0.5000,  2.0000,  1.5000],\n",
      "        [-2.0000, -0.5000,  7.0000,  1.5000]])\n",
      "torch.Size([2, 4])\n"
     ]
    }
   ],
   "source": [
    "A = torch.Tensor( [ [-2, -0.5, 2.0, 1.5], [-2, -0.5, 7.0, 1.5] ] )\n",
    "print(A)\n",
    "print(A.size())"
   ]
  },
  {
   "cell_type": "markdown",
   "metadata": {},
   "source": [
    "### Take the softmax over the rows (dim=1)"
   ]
  },
  {
   "cell_type": "code",
   "execution_count": 18,
   "metadata": {},
   "outputs": [
    {
     "name": "stdout",
     "output_type": "stream",
     "text": [
      "tensor([[1.0730e-02, 4.8089e-02, 5.8585e-01, 3.5533e-01],\n",
      "        [1.2282e-04, 5.5046e-04, 9.9526e-01, 4.0674e-03]])\n",
      "tensor(1.)\n",
      "tensor(1.)\n"
     ]
    }
   ],
   "source": [
    "p = F.softmax(A, dim = 1)\n",
    "print(p)\n",
    "print(p[0].sum())\n",
    "print(p[1].sum())"
   ]
  },
  {
   "cell_type": "markdown",
   "metadata": {},
   "source": [
    "### Take the softmax over the columns (dim=0)"
   ]
  },
  {
   "cell_type": "code",
   "execution_count": 19,
   "metadata": {},
   "outputs": [
    {
     "name": "stdout",
     "output_type": "stream",
     "text": [
      "tensor([[0.5000, 0.5000, 0.0067, 0.5000],\n",
      "        [0.5000, 0.5000, 0.9933, 0.5000]])\n"
     ]
    }
   ],
   "source": [
    "p = F.softmax(A, dim = 0)\n",
    "print(p)"
   ]
  }
 ],
 "metadata": {
  "kernelspec": {
   "display_name": "Python 3",
   "language": "python",
   "name": "python3"
  },
  "language_info": {
   "codemirror_mode": {
    "name": "ipython",
    "version": 3
   },
   "file_extension": ".py",
   "mimetype": "text/x-python",
   "name": "python",
   "nbconvert_exporter": "python",
   "pygments_lexer": "ipython3",
   "version": "3.7.4"
  }
 },
 "nbformat": 4,
 "nbformat_minor": 2
}
