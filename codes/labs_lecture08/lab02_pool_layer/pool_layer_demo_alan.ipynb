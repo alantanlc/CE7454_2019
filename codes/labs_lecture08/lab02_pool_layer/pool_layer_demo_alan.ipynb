{
 "cells": [
  {
   "cell_type": "markdown",
   "metadata": {},
   "source": [
    "# Lab 02 : Pooling layer - demo"
   ]
  },
  {
   "cell_type": "code",
   "execution_count": 1,
   "metadata": {},
   "outputs": [],
   "source": [
    "import sys, os"
   ]
  },
  {
   "cell_type": "code",
   "execution_count": 2,
   "metadata": {},
   "outputs": [],
   "source": [
    "import torch\n",
    "import torch.nn as nn"
   ]
  },
  {
   "cell_type": "markdown",
   "metadata": {},
   "source": [
    "### Make a pooling module\n",
    "- inputs: activation maps of size n x n\n",
    "- output: activation maps of size n/p x n/o\n",
    "- p: pooling size"
   ]
  },
  {
   "cell_type": "code",
   "execution_count": 3,
   "metadata": {},
   "outputs": [],
   "source": [
    "mod = nn.MaxPool2d(2, 2)"
   ]
  },
  {
   "cell_type": "markdown",
   "metadata": {},
   "source": [
    "### Make an input 2 x 6 x 6 (two channels, each one has 6 x 6 pixels)"
   ]
  },
  {
   "cell_type": "code",
   "execution_count": 4,
   "metadata": {},
   "outputs": [
    {
     "name": "stdout",
     "output_type": "stream",
     "text": [
      "tensor([[[[0.5704, 0.1715, 0.3109, 0.8171, 0.7411, 0.0152],\n",
      "          [0.8175, 0.4505, 0.6930, 0.5152, 0.5572, 0.1839],\n",
      "          [0.3931, 0.3100, 0.9012, 0.3217, 0.8083, 0.7991],\n",
      "          [0.5206, 0.7158, 0.5752, 0.4487, 0.9448, 0.3512],\n",
      "          [0.1072, 0.4187, 0.1581, 0.2587, 0.2760, 0.5611],\n",
      "          [0.7328, 0.3360, 0.4981, 0.6419, 0.8169, 0.0532]],\n",
      "\n",
      "         [[0.9067, 0.7679, 0.5895, 0.2702, 0.5983, 0.8418],\n",
      "          [0.0110, 0.5150, 0.4976, 0.8809, 0.4767, 0.7804],\n",
      "          [0.6960, 0.8015, 0.9732, 0.8035, 0.9189, 0.7548],\n",
      "          [0.5922, 0.9252, 0.8869, 0.6405, 0.7300, 0.1075],\n",
      "          [0.0113, 0.1794, 0.7907, 0.4481, 0.4868, 0.7901],\n",
      "          [0.0202, 0.7714, 0.4948, 0.6043, 0.2002, 0.1570]]]])\n",
      "torch.Size([1, 2, 6, 6])\n"
     ]
    }
   ],
   "source": [
    "bs = 1\n",
    "\n",
    "x = torch.rand(bs, 2, 6, 6)\n",
    "\n",
    "print(x)\n",
    "print(x.size())"
   ]
  }
 ],
 "metadata": {
  "kernelspec": {
   "display_name": "Python 3",
   "language": "python",
   "name": "python3"
  },
  "language_info": {
   "codemirror_mode": {
    "name": "ipython",
    "version": 3
   },
   "file_extension": ".py",
   "mimetype": "text/x-python",
   "name": "python",
   "nbconvert_exporter": "python",
   "pygments_lexer": "ipython3",
   "version": "3.7.4"
  }
 },
 "nbformat": 4,
 "nbformat_minor": 2
}
