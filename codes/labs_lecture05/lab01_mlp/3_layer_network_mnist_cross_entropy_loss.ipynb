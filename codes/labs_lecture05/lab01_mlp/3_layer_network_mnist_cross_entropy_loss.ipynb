{
 "cells": [
  {
   "cell_type": "markdown",
   "metadata": {},
   "source": [
    "# Let us implement a 3-layer network for MNIST and the cross-entropy loss"
   ]
  },
  {
   "cell_type": "code",
   "execution_count": 9,
   "metadata": {},
   "outputs": [],
   "source": [
    "import os, sys\n",
    "import torch\n",
    "import torch.nn as nn\n",
    "import torch.nn.functional as F\n",
    "import torch.optim"
   ]
  },
  {
   "cell_type": "markdown",
   "metadata": {},
   "source": [
    "### Define the network, instantiate it and choose the loss:"
   ]
  },
  {
   "cell_type": "markdown",
   "metadata": {},
   "source": [
    "### Make a class of 3-layer network:"
   ]
  },
  {
   "cell_type": "code",
   "execution_count": 4,
   "metadata": {},
   "outputs": [],
   "source": [
    "class three_layer_net(nn.Module):\n",
    "    \n",
    "    def __init__(self, input_size, hidden_size1, hidden_size2, output_size):\n",
    "        super(three_layer_net, self).__init__()\n",
    "        \n",
    "        self.layer1 = nn.Linear(input_size, hidden_size1, bias = False)\n",
    "        self.layer2 = nn.Linear(hidden_size1, hidden_size2, bias = False)\n",
    "        self.layer3 = nn.Linear(hidden_size2, output_size, bias = False)\n",
    "        \n",
    "    def forward(self, x):\n",
    "        \n",
    "        y = self.layer1(x)\n",
    "        y_hat = F.relu(y)\n",
    "        z = self.layer2(y_hat)\n",
    "        z_hat = F.relu(z)\n",
    "        scores = self.layer3(z_hat)\n",
    "        \n",
    "        return scores"
   ]
  },
  {
   "cell_type": "markdown",
   "metadata": {},
   "source": [
    "### Create the network\n",
    "\n",
    "Hyper-parameters:\n",
    "- Input dim: 784\n",
    "- 1st hidden layer: 1000\n",
    "- 2nd hidden layer: 1500\n",
    "- Output: 10"
   ]
  },
  {
   "cell_type": "code",
   "execution_count": 5,
   "metadata": {},
   "outputs": [],
   "source": [
    "net = three_layer_net(784, 1000, 1500, 10)"
   ]
  },
  {
   "cell_type": "markdown",
   "metadata": {},
   "source": [
    "### Define the criterion"
   ]
  },
  {
   "cell_type": "code",
   "execution_count": 8,
   "metadata": {},
   "outputs": [],
   "source": [
    "criterion = nn.CrossEntropyLoss()"
   ]
  },
  {
   "cell_type": "markdown",
   "metadata": {},
   "source": [
    "### Create an optimization function\n",
    "- We choose our optimizer to be an SGD (there are other SGD-like optimizers\n",
    "- The optimizer is given access to the parameters of the 3-layer network\n",
    "- We choose the learning rate to be lr = 0.01"
   ]
  },
  {
   "cell_type": "code",
   "execution_count": 12,
   "metadata": {},
   "outputs": [],
   "source": [
    "optimizer = torch.optim.SGD( net.parameters(), lr = 0.01)"
   ]
  },
  {
   "cell_type": "markdown",
   "metadata": {},
   "source": [
    "### Training loop and backpropagation"
   ]
  },
  {
   "cell_type": "code",
   "execution_count": null,
   "metadata": {},
   "outputs": [],
   "source": [
    "bs = 200"
   ]
  },
  {
   "cell_type": "code",
   "execution_count": null,
   "metadata": {},
   "outputs": [],
   "source": [
    "for iter in range(5000):\n",
    "    \n",
    "    optimizer.zero_grad()\n",
    "    \n",
    "    # create the minibatch\n",
    "    indices = torch.LongTensor(bs).random_(0, 60000)\n",
    "    minibatch_data = train_data[indices]\n",
    "    minibatch_label = train_label[indices]\n",
    "    \n",
    "    inputs = minibatch_data.view(bs, 784)\n",
    "    \n",
    "    # start recording all operations that will be done to the input tensor\n",
    "    inputs.requires_grad_()\n",
    "    \n",
    "    # forward pass: compute the scores\n",
    "    scores = net(inputs)\n",
    "    \n",
    "    # compute the cross-entropy criterion\n",
    "    loss = criterion(scores, minibatch_label)\n",
    "    \n",
    "    # backward pass: compute the gradients\n",
    "    loss.backward()\n",
    "    \n",
    "    # do one step of SGD to update the weights\n",
    "    optimizer.step()"
   ]
  }
 ],
 "metadata": {
  "kernelspec": {
   "display_name": "Python 3",
   "language": "python",
   "name": "python3"
  },
  "language_info": {
   "codemirror_mode": {
    "name": "ipython",
    "version": 3
   },
   "file_extension": ".py",
   "mimetype": "text/x-python",
   "name": "python",
   "nbconvert_exporter": "python",
   "pygments_lexer": "ipython3",
   "version": "3.7.4"
  }
 },
 "nbformat": 4,
 "nbformat_minor": 2
}
