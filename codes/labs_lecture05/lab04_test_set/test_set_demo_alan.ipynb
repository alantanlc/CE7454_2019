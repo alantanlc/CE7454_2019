{
 "cells": [
  {
   "cell_type": "markdown",
   "metadata": {},
   "source": [
    "# Lab 04 : Test set evaluation -- demo"
   ]
  },
  {
   "cell_type": "code",
   "execution_count": 1,
   "metadata": {},
   "outputs": [],
   "source": [
    "import sys, os"
   ]
  },
  {
   "cell_type": "code",
   "execution_count": 2,
   "metadata": {},
   "outputs": [],
   "source": [
    "import torch\n",
    "import torch.nn as nn\n",
    "import torch.nn.functional as F\n",
    "import torch.optim as optim\n",
    "from random import randint\n",
    "import utils"
   ]
  },
  {
   "cell_type": "markdown",
   "metadata": {},
   "source": [
    "### Download the data and print the sizes"
   ]
  },
  {
   "cell_type": "code",
   "execution_count": 4,
   "metadata": {},
   "outputs": [],
   "source": [
    "from utils import check_mnist_dataset_exists\n",
    "data_path = check_mnist_dataset_exists()\n",
    "\n",
    "train_data = torch.load(data_path+'mnist/train_data.pt')\n",
    "train_label = torch.load(data_path+'mnist/train_label.pt')\n",
    "test_data = torch.load(data_path+'mnist/test_data.pt')\n",
    "test_label = torch.load(data_path+'mnist/test_label.pt')"
   ]
  },
  {
   "cell_type": "markdown",
   "metadata": {},
   "source": [
    "### Make a ONE layer net class"
   ]
  },
  {
   "cell_type": "code",
   "execution_count": 6,
   "metadata": {},
   "outputs": [],
   "source": [
    "class one_layer_net(nn.Module):\n",
    "    \n",
    "    def __init__(self, input_size, output_size):\n",
    "        super(one_layer_net, self).__init__()\n",
    "        self.linear_layer = nn.Linear(input_size, output_size, bias = False)\n",
    "        \n",
    "    def forward(self, x):\n",
    "        scores = self.linear_layer(x)\n",
    "        return scores"
   ]
  },
  {
   "cell_type": "markdown",
   "metadata": {},
   "source": [
    "### Build the net"
   ]
  },
  {
   "cell_type": "code",
   "execution_count": 7,
   "metadata": {},
   "outputs": [
    {
     "name": "stdout",
     "output_type": "stream",
     "text": [
      "one_layer_net(\n",
      "  (linear_layer): Linear(in_features=784, out_features=10, bias=False)\n",
      ")\n"
     ]
    }
   ],
   "source": [
    "net = one_layer_net(784, 10)\n",
    "print(net)"
   ]
  },
  {
   "cell_type": "markdown",
   "metadata": {},
   "source": [
    "### Choose the criterion, optimizer, batchsize, learning rate"
   ]
  },
  {
   "cell_type": "code",
   "execution_count": 10,
   "metadata": {},
   "outputs": [],
   "source": [
    "criterion = nn.CrossEntropyLoss()\n",
    "\n",
    "optimizer = torch.optim.SGD(net.parameters(), lr = 0.01)\n",
    "\n",
    "bs = 200"
   ]
  },
  {
   "cell_type": "markdown",
   "metadata": {},
   "source": [
    "### Do 30 passes through the training set"
   ]
  },
  {
   "cell_type": "code",
   "execution_count": 11,
   "metadata": {},
   "outputs": [
    {
     "name": "stdout",
     "output_type": "stream",
     "text": [
      "epoch=  0 \t loss=  1.4415311014652252 \t error =  27.4299999276797 percent\n",
      "epoch=  1 \t loss=  0.8496326444546382 \t error =  16.761666516462963 percent\n",
      "epoch=  2 \t loss=  0.684190949400266 \t error =  14.891666471958159 percent\n",
      "epoch=  3 \t loss=  0.6037292325496674 \t error =  13.981666584809622 percent\n",
      "epoch=  4 \t loss=  0.5548880705237389 \t error =  13.345000008742014 percent\n",
      "epoch=  5 \t loss=  0.5214547666907311 \t error =  12.875000079472859 percent\n",
      "epoch=  6 \t loss=  0.49687018771966296 \t error =  12.53000013033549 percent\n",
      "epoch=  7 \t loss=  0.4777960209051768 \t error =  12.211666643619537 percent\n",
      "epoch=  8 \t loss=  0.46248000850280124 \t error =  11.930000166098278 percent\n",
      "epoch=  9 \t loss=  0.44982575635115307 \t error =  11.761667013168335 percent\n",
      "epoch=  10 \t loss=  0.4392061588168144 \t error =  11.558333456516266 percent\n",
      "epoch=  11 \t loss=  0.4300646288196246 \t error =  11.350000222524006 percent\n",
      "epoch=  12 \t loss=  0.4221610577901204 \t error =  11.190000176429749 percent\n",
      "epoch=  13 \t loss=  0.4151437920331955 \t error =  11.023333668708801 percent\n",
      "epoch=  14 \t loss=  0.40890905767679214 \t error =  10.903333644072214 percent\n",
      "epoch=  15 \t loss=  0.4033814400434494 \t error =  10.800000389417013 percent\n",
      "epoch=  16 \t loss=  0.3983311136563619 \t error =  10.721666912237803 percent\n",
      "epoch=  17 \t loss=  0.3937688954671224 \t error =  10.613333563009899 percent\n",
      "epoch=  18 \t loss=  0.3895508094628652 \t error =  10.520000060399374 percent\n",
      "epoch=  19 \t loss=  0.3857299519578616 \t error =  10.433333575725555 percent\n",
      "epoch=  20 \t loss=  0.3821685821811358 \t error =  10.336666901906332 percent\n",
      "epoch=  21 \t loss=  0.37887422283490496 \t error =  10.283333460489908 percent\n",
      "epoch=  22 \t loss=  0.3758134891092777 \t error =  10.236666878064474 percent\n",
      "epoch=  23 \t loss=  0.3729526935517788 \t error =  10.15333350499471 percent\n",
      "epoch=  24 \t loss=  0.3702746499578158 \t error =  10.103333334128061 percent\n",
      "epoch=  25 \t loss=  0.3677555598815282 \t error =  10.048333426316578 percent\n",
      "epoch=  26 \t loss=  0.3653663943211238 \t error =  10.01500016450882 percent\n",
      "epoch=  27 \t loss=  0.36313340892394386 \t error =  9.928333381811779 percent\n",
      "epoch=  28 \t loss=  0.36100423271457355 \t error =  9.898333450158438 percent\n",
      "epoch=  29 \t loss=  0.359003032942613 \t error =  9.84166693687439 percent\n"
     ]
    }
   ],
   "source": [
    "for epoch in range(30):\n",
    "    \n",
    "    running_loss = 0\n",
    "    running_error = 0\n",
    "    num_batches = 0\n",
    "    \n",
    "    shuffled_indices = torch.randperm(60000)\n",
    "    \n",
    "    for count in range(0, 60000, bs):\n",
    "        \n",
    "        optimizer.zero_grad()\n",
    "        \n",
    "        indices = shuffled_indices[count:count+bs]\n",
    "        minibatch_data = train_data[indices]\n",
    "        minibatch_label = train_label[indices]\n",
    "        \n",
    "        inputs = minibatch_data.view(bs, 784)\n",
    "        \n",
    "        inputs.requires_grad_()\n",
    "        \n",
    "        scores = net(inputs)\n",
    "        \n",
    "        loss = criterion(scores, minibatch_label)\n",
    "        \n",
    "        loss.backward()\n",
    "        \n",
    "        optimizer.step()\n",
    "        \n",
    "        # compute and accumulate stats\n",
    "        \n",
    "        running_loss += loss.detach().item()\n",
    "        \n",
    "        error = utils.get_error(scores.detach(), minibatch_label)\n",
    "        running_error += error.item()\n",
    "        \n",
    "        num_batches += 1\n",
    "    \n",
    "    # compute stats for the full training set\n",
    "    total_loss = running_loss / num_batches\n",
    "    total_error = running_error / num_batches\n",
    "    \n",
    "    print('epoch= ', epoch, '\\t loss= ', total_loss, '\\t error = ', total_error*100, 'percent')"
   ]
  },
  {
   "cell_type": "markdown",
   "metadata": {},
   "source": [
    "### Now that the network is trained and do 10% of error on the training set, we are going to see how well it is doing on the test set"
   ]
  },
  {
   "cell_type": "code",
   "execution_count": 12,
   "metadata": {},
   "outputs": [
    {
     "name": "stdout",
     "output_type": "stream",
     "text": [
      "error rate on test set =  9.390000224113464 percent\n"
     ]
    }
   ],
   "source": [
    "running_error = 0\n",
    "num_batches = 0\n",
    "\n",
    "for i in range(0, 10000, bs):\n",
    "    \n",
    "    # extract the minibatch\n",
    "    minibatch_data = test_data[i:i+bs]\n",
    "    minibatch_label = test_label[i:i+bs]\n",
    "    \n",
    "    # reshape the minibatch\n",
    "    inputs = minibatch_data.view(bs, 784)\n",
    "    \n",
    "    # feed it to the network\n",
    "    scores = net(inputs)\n",
    "    \n",
    "    # compute the error made on this batch\n",
    "    error = utils.get_error(scores.detach(), minibatch_label)\n",
    "    \n",
    "    # add it to the running error\n",
    "    running_error += error.item()\n",
    "    \n",
    "    num_batches += 1\n",
    "    \n",
    "# compute error rate on the full test set\n",
    "total_error = running_error / num_batches\n",
    "\n",
    "print('error rate on test set = ', total_error * 100, 'percent')"
   ]
  },
  {
   "cell_type": "markdown",
   "metadata": {},
   "source": [
    "### Choose image at random from the test set and see how good/bad are the predictions"
   ]
  },
  {
   "cell_type": "code",
   "execution_count": 13,
   "metadata": {},
   "outputs": [
    {
     "data": {
      "image/png": "[encoded data removed]",
      "text/plain": [
       "<Figure size 432x288 with 1 Axes>"
      ]
     },
     "metadata": {
      "needs_background": "light"
     },
     "output_type": "display_data"
    },
    {
     "data": {
      "image/png": "[encoded data removed]",
      "text/plain": [
       "<Figure size 640x480 with 1 Axes>"
      ]
     },
     "metadata": {},
     "output_type": "display_data"
    }
   ],
   "source": [
    "# choose a picture at random\n",
    "idx = randint(0, 10000-1)\n",
    "im = test_data[idx]\n",
    "\n",
    "# display the picture\n",
    "utils.show(im)\n",
    "\n",
    "# feed it to the net and display the confidence scores\n",
    "scores = net(im.view(1, 784))\n",
    "prob = F.softmax(scores, dim=1)\n",
    "utils.show_prob_mnist(prob)"
   ]
  }
 ],
 "metadata": {
  "kernelspec": {
   "display_name": "Python 3",
   "language": "python",
   "name": "python3"
  },
  "language_info": {
   "codemirror_mode": {
    "name": "ipython",
    "version": 3
   },
   "file_extension": ".py",
   "mimetype": "text/x-python",
   "name": "python",
   "nbconvert_exporter": "python",
   "pygments_lexer": "ipython3",
   "version": "3.7.4"
  }
 },
 "nbformat": 4,
 "nbformat_minor": 2
}
