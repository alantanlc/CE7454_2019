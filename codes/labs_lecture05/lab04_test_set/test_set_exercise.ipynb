{
 "cells": [
  {
   "cell_type": "markdown",
   "metadata": {},
   "source": [
    "# Lab 04 : Test set evaluation -- exercise"
   ]
  },
  {
   "cell_type": "code",
   "execution_count": 6,
   "metadata": {},
   "outputs": [],
   "source": [
    "# For Google Colaboratory\n",
    "import sys, os\n",
    "if 'google.colab' in sys.modules:\n",
    "    from google.colab import drive\n",
    "    drive.mount('/content/gdrive')\n",
    "    file_name = 'test_set_exercise.ipynb'\n",
    "    import subprocess\n",
    "    path_to_file = subprocess.check_output('find . -type f -name ' + str(file_name), shell=True).decode(\"utf-8\")\n",
    "    print(path_to_file)\n",
    "    path_to_file = path_to_file.replace(file_name,\"\").replace('\\n',\"\")\n",
    "    os.chdir(path_to_file)\n",
    "    !pwd"
   ]
  },
  {
   "cell_type": "code",
   "execution_count": 7,
   "metadata": {},
   "outputs": [],
   "source": [
    "import torch\n",
    "import torch.nn as nn\n",
    "import torch.nn.functional as F\n",
    "import torch.optim as optim\n",
    "from random import randint\n",
    "import utils"
   ]
  },
  {
   "cell_type": "markdown",
   "metadata": {},
   "source": [
    "### Download the CIFAR dataset -- check the size carefully!"
   ]
  },
  {
   "cell_type": "code",
   "execution_count": 8,
   "metadata": {},
   "outputs": [
    {
     "name": "stdout",
     "output_type": "stream",
     "text": [
      "torch.Size([50000, 3, 32, 32])\n"
     ]
    }
   ],
   "source": [
    "from utils import check_cifar_dataset_exists\n",
    "data_path=check_cifar_dataset_exists()\n",
    "\n",
    "train_data=torch.load(data_path+'cifar/train_data.pt')\n",
    "train_label=torch.load(data_path+'cifar/train_label.pt')\n",
    "test_data=torch.load(data_path+'cifar/test_data.pt')\n",
    "test_label=torch.load(data_path+'cifar/test_label.pt')\n",
    "\n",
    "print(train_data.size())"
   ]
  },
  {
   "cell_type": "markdown",
   "metadata": {},
   "source": [
    "### Make a ONE layer net class. "
   ]
  },
  {
   "cell_type": "code",
   "execution_count": 9,
   "metadata": {},
   "outputs": [],
   "source": [
    "class one_layer_net(nn.Module):\n",
    "\n",
    "    def __init__(self, input_size, output_size):\n",
    "        super(one_layer_net , self).__init__()\n",
    "        self.linear_layer = nn.Linear( input_size, output_size , bias=True)\n",
    "        \n",
    "    def forward(self, x):\n",
    "        scores = self.linear_layer(x)\n",
    "        return scores"
   ]
  },
  {
   "cell_type": "markdown",
   "metadata": {},
   "source": [
    "### Build the net. "
   ]
  },
  {
   "cell_type": "code",
   "execution_count": 10,
   "metadata": {},
   "outputs": [
    {
     "name": "stdout",
     "output_type": "stream",
     "text": [
      "one_layer_net(\n",
      "  (linear_layer): Linear(in_features=3072, out_features=10, bias=True)\n",
      ")\n"
     ]
    }
   ],
   "source": [
    "net=one_layer_net(3072,10)\n",
    "print(net)"
   ]
  },
  {
   "cell_type": "markdown",
   "metadata": {},
   "source": [
    "### Choose the criterion and optimizer. Also choose:\n"
   ]
  },
  {
   "cell_type": "code",
   "execution_count": 11,
   "metadata": {},
   "outputs": [],
   "source": [
    "criterion = nn.CrossEntropyLoss()\n",
    "optimizer=torch.optim.SGD( net.parameters() , lr=0.01 )\n",
    "bs=20"
   ]
  },
  {
   "cell_type": "markdown",
   "metadata": {},
   "source": [
    "### Do 50 passes through the training set."
   ]
  },
  {
   "cell_type": "code",
   "execution_count": 12,
   "metadata": {},
   "outputs": [
    {
     "name": "stdout",
     "output_type": "stream",
     "text": [
      "epoch= 0 \t loss= 1.958435620880127 \t error= 69.54999997615813 percent\n",
      "epoch= 1 \t loss= 1.8625017852306367 \t error= 65.15199998378753 percent\n",
      "epoch= 2 \t loss= 1.835319188261032 \t error= 64.20200001001358 percent\n",
      "epoch= 3 \t loss= 1.8133225433826448 \t error= 63.197999975681306 percent\n",
      "epoch= 4 \t loss= 1.8048487916469573 \t error= 62.77399996995926 percent\n",
      "epoch= 5 \t loss= 1.7970082124233246 \t error= 62.380000002384186 percent\n",
      "epoch= 6 \t loss= 1.7907178359508515 \t error= 62.35199995994568 percent\n",
      "epoch= 7 \t loss= 1.782043169593811 \t error= 61.646000008583066 percent\n",
      "epoch= 8 \t loss= 1.7763303175926208 \t error= 61.389999957084655 percent\n",
      "epoch= 9 \t loss= 1.7740949018478394 \t error= 61.303999979496005 percent\n",
      "epoch= 10 \t loss= 1.7687824460029602 \t error= 61.20600000143052 percent\n",
      "epoch= 11 \t loss= 1.7653595728874207 \t error= 61.15600001811982 percent\n",
      "epoch= 12 \t loss= 1.765675163078308 \t error= 61.24200002670288 percent\n",
      "epoch= 13 \t loss= 1.7585349222898483 \t error= 60.76199996948242 percent\n",
      "epoch= 14 \t loss= 1.756879975628853 \t error= 60.623999974727624 percent\n",
      "epoch= 15 \t loss= 1.7537943029403686 \t error= 60.70800005674363 percent\n",
      "epoch= 16 \t loss= 1.7518352073192596 \t error= 60.20400000095367 percent\n",
      "epoch= 17 \t loss= 1.746857574391365 \t error= 60.23799995183945 percent\n",
      "epoch= 18 \t loss= 1.746712730026245 \t error= 60.18000000238418 percent\n",
      "epoch= 19 \t loss= 1.7417832511425018 \t error= 60.04200005054474 percent\n",
      "epoch= 20 \t loss= 1.7414552419185638 \t error= 59.900000028610236 percent\n",
      "epoch= 21 \t loss= 1.7422528433799744 \t error= 60.15600002288818 percent\n",
      "epoch= 22 \t loss= 1.7407262845993041 \t error= 60.19999999046326 percent\n",
      "epoch= 23 \t loss= 1.7386676055431367 \t error= 60.06600000858307 percent\n",
      "epoch= 24 \t loss= 1.734246347594261 \t error= 59.82600003004074 percent\n",
      "epoch= 25 \t loss= 1.7324158957004547 \t error= 59.73600002765656 percent\n",
      "epoch= 26 \t loss= 1.732990301132202 \t error= 59.67400008440018 percent\n",
      "epoch= 27 \t loss= 1.7347702736854553 \t error= 59.8099999666214 percent\n",
      "epoch= 28 \t loss= 1.7298123235225678 \t error= 59.81799997329712 percent\n",
      "epoch= 29 \t loss= 1.7351285043001174 \t error= 59.784000062942496 percent\n",
      "epoch= 30 \t loss= 1.725848198413849 \t error= 59.379999961853024 percent\n",
      "epoch= 31 \t loss= 1.7269361060380937 \t error= 59.43199995756149 percent\n",
      "epoch= 32 \t loss= 1.7259816833734511 \t error= 59.34999999761581 percent\n",
      "epoch= 33 \t loss= 1.726891804432869 \t error= 59.433999965190885 percent\n",
      "epoch= 34 \t loss= 1.7246590600013734 \t error= 59.2200000166893 percent\n",
      "epoch= 35 \t loss= 1.7235148172855377 \t error= 59.280000023841865 percent\n",
      "epoch= 36 \t loss= 1.722437759041786 \t error= 59.37000000476837 percent\n",
      "epoch= 37 \t loss= 1.7222313247680665 \t error= 59.26600001335144 percent\n",
      "epoch= 38 \t loss= 1.721178438949585 \t error= 59.37200002908707 percent\n",
      "epoch= 39 \t loss= 1.7184745000362396 \t error= 59.22600006580353 percent\n",
      "epoch= 40 \t loss= 1.7188664045572282 \t error= 59.14200006008148 percent\n",
      "epoch= 41 \t loss= 1.718890026831627 \t error= 59.207999942302706 percent\n",
      "epoch= 42 \t loss= 1.718347506427765 \t error= 59.14800001859665 percent\n",
      "epoch= 43 \t loss= 1.7172326078891753 \t error= 59.078000016212464 percent\n",
      "epoch= 44 \t loss= 1.7157954541921616 \t error= 59.008000035285946 percent\n",
      "epoch= 45 \t loss= 1.7171483395576477 \t error= 59.2040000128746 percent\n",
      "epoch= 46 \t loss= 1.7148314599752426 \t error= 58.97999998569489 percent\n",
      "epoch= 47 \t loss= 1.7140952518463135 \t error= 58.86599993944168 percent\n",
      "epoch= 48 \t loss= 1.7116956382989883 \t error= 58.69200010061264 percent\n",
      "epoch= 49 \t loss= 1.712861492395401 \t error= 58.783999979496 percent\n"
     ]
    }
   ],
   "source": [
    "for epoch in range(50):\n",
    "    \n",
    "    running_loss=0\n",
    "    running_error=0\n",
    "    num_batches=0\n",
    "    \n",
    "    shuffled_indices=torch.randperm(50000)\n",
    " \n",
    "    for count in range(0,50000,bs):\n",
    "    \n",
    "        # Set the gradients to zeros\n",
    "        optimizer.zero_grad()\n",
    "        \n",
    "        # create a minibatch       \n",
    "        indices=shuffled_indices[count:count+bs]\n",
    "        minibatch_data =  train_data[indices]\n",
    "        minibatch_label= train_label[indices]\n",
    "\n",
    "        # reshape the minibatch\n",
    "        inputs = minibatch_data.view(bs,3072)\n",
    "\n",
    "        # tell Pytorch to start tracking all operations that will be done on \"inputs\"\n",
    "        inputs.requires_grad_()\n",
    "\n",
    "        # forward the minibatch through the net \n",
    "        scores=net( inputs ) \n",
    "\n",
    "        # Compute the average of the losses of the data points in the minibatch\n",
    "        loss =  criterion( scores , minibatch_label) \n",
    "        \n",
    "        # backward pass to compute dL/dU, dL/dV and dL/dW   \n",
    "        loss.backward()\n",
    "\n",
    "        # do one step of stochastic gradient descent: U=U-lr(dL/dU), V=V-lr(dL/dU), ...\n",
    "        optimizer.step()\n",
    "        \n",
    "        # START COMPUTING STATS\n",
    "        \n",
    "        # add the loss of this batch to the running loss\n",
    "        running_loss += loss.detach().item()\n",
    "        \n",
    "        # compute the error made on this batch and add it to the running error       \n",
    "        error = utils.get_error( scores.detach() , minibatch_label)\n",
    "        running_error += error.item()\n",
    "        \n",
    "        num_batches+=1\n",
    "    \n",
    "    \n",
    "    # compute stats for the full training set\n",
    "    total_loss = running_loss/num_batches\n",
    "    total_error = running_error/num_batches\n",
    "    \n",
    "    print('epoch=',epoch, '\\t loss=', total_loss , '\\t error=', total_error*100 ,'percent')\n",
    "        \n",
    "    "
   ]
  },
  {
   "cell_type": "markdown",
   "metadata": {},
   "source": [
    "# You only have to complete this cell"
   ]
  },
  {
   "cell_type": "markdown",
   "metadata": {},
   "source": [
    "### So we are doing around 59% error on the training set. BUT how much are we doing on test set?"
   ]
  },
  {
   "cell_type": "code",
   "execution_count": 16,
   "metadata": {},
   "outputs": [
    {
     "name": "stdout",
     "output_type": "stream",
     "text": [
      "error rate on test set = 62.20999991893768 percent\n"
     ]
    }
   ],
   "source": [
    "running_error= 0\n",
    "num_batches= 0\n",
    "\n",
    "for count in range(0, 10000, bs):\n",
    "\n",
    "    # extract the minibatch\n",
    "    minibatch_data =  test_data[count:count+bs]\n",
    "    minibatch_label=  test_label[count:count+bs]\n",
    "\n",
    "    # reshape the minibatch\n",
    "    inputs = minibatch_data.view(bs, 3072)\n",
    "    \n",
    "    # feed it to the network\n",
    "    scores = net(inputs)\n",
    "\n",
    "    # compute the error made on this batch\n",
    "    error = utils.get_error(scores, minibatch_label)\n",
    "    \n",
    "    # add it to the running error\n",
    "    running_error += error.item()\n",
    "\n",
    "    num_batches += 1\n",
    "\n",
    "\n",
    "# compute error rate on the full test set\n",
    "total_error = running_error / num_batches\n",
    "\n",
    "print( 'error rate on test set =', total_error*100 ,'percent')"
   ]
  },
  {
   "cell_type": "markdown",
   "metadata": {},
   "source": [
    "### Choose image at random from the test set and see how good/bad are the predictions"
   ]
  },
  {
   "cell_type": "code",
   "execution_count": 15,
   "metadata": {},
   "outputs": [
    {
     "data": {
      "image/png": "[encoded data removed]",
      "text/plain": [
       "<Figure size 432x288 with 1 Axes>"
      ]
     },
     "metadata": {
      "needs_background": "light"
     },
     "output_type": "display_data"
    },
    {
     "data": {
      "image/png": "[encoded data removed]",
      "text/plain": [
       "<Figure size 640x480 with 1 Axes>"
      ]
     },
     "metadata": {},
     "output_type": "display_data"
    }
   ],
   "source": [
    "# choose a picture at random\n",
    "idx=randint(0, 10000-1)\n",
    "im=test_data[idx]\n",
    "\n",
    "# diplay the picture\n",
    "utils.show(im)\n",
    "\n",
    "# feed it to the net and display the confidence scores\n",
    "scores =  net( im.view(1,3072)) \n",
    "probs= F.softmax(scores, dim=1)\n",
    "utils.show_prob_cifar(probs)"
   ]
  },
  {
   "cell_type": "code",
   "execution_count": null,
   "metadata": {},
   "outputs": [],
   "source": []
  }
 ],
 "metadata": {
  "kernelspec": {
   "display_name": "Python 3",
   "language": "python",
   "name": "python3"
  },
  "language_info": {
   "codemirror_mode": {
    "name": "ipython",
    "version": 3
   },
   "file_extension": ".py",
   "mimetype": "text/x-python",
   "name": "python",
   "nbconvert_exporter": "python",
   "pygments_lexer": "ipython3",
   "version": "3.7.4"
  }
 },
 "nbformat": 4,
 "nbformat_minor": 2
}
