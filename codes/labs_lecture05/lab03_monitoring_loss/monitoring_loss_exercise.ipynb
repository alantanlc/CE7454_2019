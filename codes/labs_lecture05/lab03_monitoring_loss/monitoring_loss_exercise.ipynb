{
 "cells": [
  {
   "cell_type": "markdown",
   "metadata": {},
   "source": [
    "# Lab 03 : Loss and error rate -- exercise"
   ]
  },
  {
   "cell_type": "code",
   "execution_count": 1,
   "metadata": {},
   "outputs": [],
   "source": [
    "# For Google Colaboratory\n",
    "import sys, os\n",
    "if 'google.colab' in sys.modules:\n",
    "    from google.colab import drive\n",
    "    drive.mount('/content/gdrive')\n",
    "    file_name = 'monitoring_loss_exercise.ipynb'\n",
    "    import subprocess\n",
    "    path_to_file = subprocess.check_output('find . -type f -name ' + str(file_name), shell=True).decode(\"utf-8\")\n",
    "    print(path_to_file)\n",
    "    path_to_file = path_to_file.replace(file_name,\"\").replace('\\n',\"\")\n",
    "    os.chdir(path_to_file)\n",
    "    !pwd"
   ]
  },
  {
   "cell_type": "code",
   "execution_count": 2,
   "metadata": {},
   "outputs": [],
   "source": [
    "import torch\n",
    "import torch.nn as nn\n",
    "import torch.nn.functional as F\n",
    "import torch.optim as optim\n",
    "from random import randint\n",
    "import utils"
   ]
  },
  {
   "cell_type": "markdown",
   "metadata": {},
   "source": [
    "### Download the CIFAR dataset -- check the size carefully!"
   ]
  },
  {
   "cell_type": "code",
   "execution_count": 3,
   "metadata": {},
   "outputs": [
    {
     "name": "stdout",
     "output_type": "stream",
     "text": [
      "torch.Size([50000, 3, 32, 32])\n"
     ]
    }
   ],
   "source": [
    "from utils import check_cifar_dataset_exists\n",
    "data_path=check_cifar_dataset_exists()\n",
    "\n",
    "train_data=torch.load(data_path+'cifar/train_data.pt')\n",
    "train_label=torch.load(data_path+'cifar/train_label.pt')\n",
    "test_data=torch.load(data_path+'cifar/test_data.pt')\n",
    "\n",
    "print(train_data.size())"
   ]
  },
  {
   "cell_type": "markdown",
   "metadata": {},
   "source": [
    "### Make a ONE layer net class. "
   ]
  },
  {
   "cell_type": "code",
   "execution_count": 4,
   "metadata": {},
   "outputs": [],
   "source": [
    "class one_layer_net(nn.Module):\n",
    "\n",
    "    def __init__(self, input_size, output_size):\n",
    "        super(one_layer_net , self).__init__()\n",
    "        self.linear_layer = nn.Linear( input_size, output_size , bias=True)\n",
    "        \n",
    "    def forward(self, x):\n",
    "        scores = self.linear_layer(x)\n",
    "        return scores"
   ]
  },
  {
   "cell_type": "markdown",
   "metadata": {},
   "source": [
    "### Build the net.   "
   ]
  },
  {
   "cell_type": "code",
   "execution_count": 5,
   "metadata": {},
   "outputs": [
    {
     "name": "stdout",
     "output_type": "stream",
     "text": [
      "one_layer_net(\n",
      "  (linear_layer): Linear(in_features=3072, out_features=10, bias=True)\n",
      ")\n"
     ]
    }
   ],
   "source": [
    "net= one_layer_net(3072,10)\n",
    "\n",
    "print(net)"
   ]
  },
  {
   "cell_type": "markdown",
   "metadata": {},
   "source": [
    "### Choose the criterion and optimizer. Also choose:\n",
    "\n",
    "### batchsize = 20\n",
    "\n",
    "### learning rate = 0.01"
   ]
  },
  {
   "cell_type": "code",
   "execution_count": 6,
   "metadata": {},
   "outputs": [],
   "source": [
    "criterion = nn.CrossEntropyLoss()\n",
    "\n",
    "optimizer=torch.optim.SGD( net.parameters() , lr=0.01 )\n",
    "\n",
    "bs=20"
   ]
  },
  {
   "cell_type": "markdown",
   "metadata": {},
   "source": [
    "# You only have to complete this cell\n",
    "\n",
    "### Do 40 passes through the training set (which contains 50,000 images -- not 60,000 like mnist!)"
   ]
  },
  {
   "cell_type": "code",
   "execution_count": 8,
   "metadata": {},
   "outputs": [
    {
     "name": "stdout",
     "output_type": "stream",
     "text": [
      "epoch= 0 \t loss= 1.9561281750679016 \t error= 69.13999995470047 percent\n",
      "epoch= 1 \t loss= 1.8676898473262786 \t error= 65.44399993419647 percent\n",
      "epoch= 2 \t loss= 1.838865717434883 \t error= 64.21799995660781 percent\n",
      "epoch= 3 \t loss= 1.8203398289680481 \t error= 63.47399995803833 percent\n",
      "epoch= 4 \t loss= 1.8064788655281068 \t error= 62.785999972820285 percent\n",
      "epoch= 5 \t loss= 1.801283288860321 \t error= 62.64399995088578 percent\n",
      "epoch= 6 \t loss= 1.7901381657600404 \t error= 62.06399995088577 percent\n",
      "epoch= 7 \t loss= 1.7853628862142563 \t error= 61.85200000524521 percent\n",
      "epoch= 8 \t loss= 1.7786087373733521 \t error= 61.947999911308294 percent\n",
      "epoch= 9 \t loss= 1.7722503087043762 \t error= 61.366000003814705 percent\n",
      "epoch= 10 \t loss= 1.7700399811983107 \t error= 61.093999979496004 percent\n",
      "epoch= 11 \t loss= 1.7641568313598632 \t error= 60.9619999909401 percent\n",
      "epoch= 12 \t loss= 1.7621012185573577 \t error= 60.92999997377395 percent\n",
      "epoch= 13 \t loss= 1.7624016493558883 \t error= 60.85800005674362 percent\n",
      "epoch= 14 \t loss= 1.7586226981401443 \t error= 60.75000000476837 percent\n",
      "epoch= 15 \t loss= 1.754537422823906 \t error= 60.395999999046325 percent\n",
      "epoch= 16 \t loss= 1.7504708906888962 \t error= 60.34399994850159 percent\n",
      "epoch= 17 \t loss= 1.7508864604711531 \t error= 60.65799997091293 percent\n",
      "epoch= 18 \t loss= 1.7478840410232543 \t error= 60.493999972343445 percent\n",
      "epoch= 19 \t loss= 1.7458428166151048 \t error= 60.25200005531312 percent\n",
      "epoch= 20 \t loss= 1.7409730722665786 \t error= 60.11199998140335 percent\n",
      "epoch= 21 \t loss= 1.7387482832193375 \t error= 59.91599997282028 percent\n",
      "epoch= 22 \t loss= 1.7409225844621659 \t error= 59.726000077724464 percent\n",
      "epoch= 23 \t loss= 1.7422873256683349 \t error= 60.0159999704361 percent\n",
      "epoch= 24 \t loss= 1.737160394525528 \t error= 59.841999943256376 percent\n",
      "epoch= 25 \t loss= 1.7346632848024368 \t error= 59.94199996232986 percent\n",
      "epoch= 26 \t loss= 1.7290965108394623 \t error= 59.38399997472763 percent\n",
      "epoch= 27 \t loss= 1.733664171886444 \t error= 59.74400001525879 percent\n",
      "epoch= 28 \t loss= 1.7285640117883683 \t error= 59.26400008440018 percent\n",
      "epoch= 29 \t loss= 1.7302994811058043 \t error= 59.540000000000006 percent\n",
      "epoch= 30 \t loss= 1.7272620190382004 \t error= 59.632000074386596 percent\n",
      "epoch= 31 \t loss= 1.7245841856241226 \t error= 59.292000033855444 percent\n",
      "epoch= 32 \t loss= 1.726433971619606 \t error= 59.49999999284744 percent\n",
      "epoch= 33 \t loss= 1.7244357175827025 \t error= 59.43200007200241 percent\n",
      "epoch= 34 \t loss= 1.7232716992855073 \t error= 59.09000006914139 percent\n",
      "epoch= 35 \t loss= 1.7210072703361512 \t error= 59.23600001811982 percent\n",
      "epoch= 36 \t loss= 1.7192917094945908 \t error= 59.19600004434585 percent\n",
      "epoch= 37 \t loss= 1.7222579854011535 \t error= 59.31600005626678 percent\n",
      "epoch= 38 \t loss= 1.7178147426843644 \t error= 59.13800002098083 percent\n",
      "epoch= 39 \t loss= 1.7169218693971633 \t error= 58.91599999427795 percent\n"
     ]
    }
   ],
   "source": [
    "for epoch in range(40):\n",
    "    \n",
    "    running_loss= 0\n",
    "    running_error= 0\n",
    "    num_batches= 0\n",
    "    \n",
    "    shuffled_indices=torch.randperm(50000)\n",
    " \n",
    "    for count in range(0, 50000, bs):\n",
    "    \n",
    "        # Set the gradients to zeros\n",
    "        optimizer.zero_grad()\n",
    "        \n",
    "        # create a minibatch       \n",
    "        indices=shuffled_indices[count:count+bs]\n",
    "        minibatch_data =  train_data[indices]\n",
    "        minibatch_label= train_label[indices]\n",
    "\n",
    "        # reshape the minibatch\n",
    "        inputs = minibatch_data.view(bs,3072)\n",
    "\n",
    "        # tell Pytorch to start tracking all operations that will be done on \"inputs\"\n",
    "        inputs.requires_grad_()\n",
    "\n",
    "        # forward the minibatch through the net \n",
    "        scores=net( inputs ) \n",
    "\n",
    "        # Compute the average of the losses of the data points in the minibatch\n",
    "        loss =  criterion( scores , minibatch_label) \n",
    "        \n",
    "        # backward pass to compute dL/dU, dL/dV and dL/dW   \n",
    "        loss.backward()\n",
    "\n",
    "        # do one step of stochastic gradient descent: U=U-lr(dL/dU), V=V-lr(dL/dU), ...\n",
    "        optimizer.step()\n",
    "        \n",
    "        # START COMPUTING STATS\n",
    "        \n",
    "        # add the loss of this batch to the running loss\n",
    "        running_loss += loss.detach().item()\n",
    "        \n",
    "        # compute the error made on this batch and add it to the running error       \n",
    "        error = utils.get_error(scores.detach(), minibatch_label)\n",
    "        running_error += error.item()\n",
    "        \n",
    "        num_batches += 1\n",
    "    \n",
    "    \n",
    "    # compute stats for the full training set\n",
    "    total_loss = running_loss / num_batches\n",
    "    total_error = running_error / num_batches\n",
    "    \n",
    "    print('epoch=',epoch, '\\t loss=', total_loss , '\\t error=', total_error*100 ,'percent')\n",
    "        \n",
    "    \n",
    "        \n",
    "        "
   ]
  },
  {
   "cell_type": "markdown",
   "metadata": {},
   "source": [
    "### Choose image at random from the test set and see how good/bad are the predictions"
   ]
  },
  {
   "cell_type": "code",
   "execution_count": 9,
   "metadata": {},
   "outputs": [
    {
     "data": {
      "image/png": "[encoded data removed]",
      "text/plain": [
       "<Figure size 432x288 with 1 Axes>"
      ]
     },
     "metadata": {
      "needs_background": "light"
     },
     "output_type": "display_data"
    },
    {
     "data": {
      "image/png": "[encoded data removed]",
      "text/plain": [
       "<Figure size 640x480 with 1 Axes>"
      ]
     },
     "metadata": {},
     "output_type": "display_data"
    }
   ],
   "source": [
    "# choose a picture at random\n",
    "idx=randint(0, 10000-1)\n",
    "im=test_data[idx]\n",
    "\n",
    "# diplay the picture\n",
    "utils.show(im)\n",
    "\n",
    "# feed it to the net and display the confidence scores\n",
    "scores =  net( im.view(1,3072)) \n",
    "probs= F.softmax(scores, dim=1)\n",
    "utils.show_prob_cifar(probs)"
   ]
  },
  {
   "cell_type": "code",
   "execution_count": null,
   "metadata": {},
   "outputs": [],
   "source": []
  }
 ],
 "metadata": {
  "kernelspec": {
   "display_name": "Python 3",
   "language": "python",
   "name": "python3"
  },
  "language_info": {
   "codemirror_mode": {
    "name": "ipython",
    "version": 3
   },
   "file_extension": ".py",
   "mimetype": "text/x-python",
   "name": "python",
   "nbconvert_exporter": "python",
   "pygments_lexer": "ipython3",
   "version": "3.7.4"
  }
 },
 "nbformat": 4,
 "nbformat_minor": 2
}
