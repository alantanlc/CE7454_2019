{
 "cells": [
  {
   "cell_type": "markdown",
   "metadata": {},
   "source": [
    "# Lab 03 : Loss and error rate -- demo"
   ]
  },
  {
   "cell_type": "code",
   "execution_count": 23,
   "metadata": {},
   "outputs": [],
   "source": [
    "import sys, os"
   ]
  },
  {
   "cell_type": "code",
   "execution_count": 24,
   "metadata": {},
   "outputs": [],
   "source": [
    "import torch\n",
    "import torch.nn as nn\n",
    "import torch.nn.functional as F\n",
    "import torch.optim as optim\n",
    "from random import randint\n",
    "import utils"
   ]
  },
  {
   "cell_type": "markdown",
   "metadata": {},
   "source": [
    "### Download the data and print the size"
   ]
  },
  {
   "cell_type": "code",
   "execution_count": 25,
   "metadata": {},
   "outputs": [],
   "source": [
    "from utils import check_mnist_dataset_exists\n",
    "data_path = check_mnist_dataset_exists()\n",
    "\n",
    "train_data = torch.load(data_path+'mnist/train_data.pt')\n",
    "train_label = torch.load(data_path+'mnist/train_label.pt')\n",
    "test_data = torch.load(data_path+'mnist/test_data.pt')"
   ]
  },
  {
   "cell_type": "markdown",
   "metadata": {},
   "source": [
    "### Make a ONE layer net class"
   ]
  },
  {
   "cell_type": "code",
   "execution_count": 26,
   "metadata": {},
   "outputs": [],
   "source": [
    "class one_layer_net(nn.Module):\n",
    "    \n",
    "    def __init__(self, input_size, output_size):\n",
    "        super(one_layer_net, self).__init__()\n",
    "        self.linear_layer = nn.Linear(input_size, output_size, bias = False)\n",
    "        \n",
    "    def forward(self, x):\n",
    "        scores = self.linear_layer(x)\n",
    "        return scores"
   ]
  },
  {
   "cell_type": "markdown",
   "metadata": {},
   "source": [
    "### Build the net"
   ]
  },
  {
   "cell_type": "code",
   "execution_count": 27,
   "metadata": {},
   "outputs": [
    {
     "name": "stdout",
     "output_type": "stream",
     "text": [
      "one_layer_net(\n",
      "  (linear_layer): Linear(in_features=784, out_features=10, bias=False)\n",
      ")\n"
     ]
    }
   ],
   "source": [
    "net = one_layer_net(784, 10)\n",
    "print(net)"
   ]
  },
  {
   "cell_type": "markdown",
   "metadata": {},
   "source": [
    "### Choose the criterion, optimizer, batchsize, learning rate"
   ]
  },
  {
   "cell_type": "code",
   "execution_count": 28,
   "metadata": {},
   "outputs": [],
   "source": [
    "criterion = nn.CrossEntropyLoss()\n",
    "optimizer = torch.optim.SGD(net.parameters(), lr = 0.01)\n",
    "bs = 200"
   ]
  },
  {
   "cell_type": "markdown",
   "metadata": {},
   "source": [
    "### Do 30 passes through the training set"
   ]
  },
  {
   "cell_type": "code",
   "execution_count": 29,
   "metadata": {},
   "outputs": [
    {
     "name": "stdout",
     "output_type": "stream",
     "text": [
      "epoch= 0 \t loss= 1.4553178944190344 \t error= 28.218333502610527 percent\n",
      "epoch= 1 \t loss= 0.8500675809383392 \t error= 16.586666564146675 percent\n",
      "epoch= 2 \t loss= 0.6835138060649236 \t error= 14.851666470368704 percent\n",
      "epoch= 3 \t loss= 0.6029938133557637 \t error= 13.933333198229473 percent\n",
      "epoch= 4 \t loss= 0.5541565578182538 \t error= 13.328333258628843 percent\n",
      "epoch= 5 \t loss= 0.5207950945695241 \t error= 12.828333357969921 percent\n",
      "epoch= 6 \t loss= 0.4962427848577499 \t error= 12.435000141461689 percent\n",
      "epoch= 7 \t loss= 0.47725855122009914 \t error= 12.165000140666962 percent\n",
      "epoch= 8 \t loss= 0.4620092381040255 \t error= 11.915000081062317 percent\n",
      "epoch= 9 \t loss= 0.4494248803456624 \t error= 11.6516668399175 percent\n",
      "epoch= 10 \t loss= 0.4388142957290014 \t error= 11.451666812102 percent\n",
      "epoch= 11 \t loss= 0.42974116921424865 \t error= 11.280000388622284 percent\n",
      "epoch= 12 \t loss= 0.4218073555827141 \t error= 11.138333479563395 percent\n",
      "epoch= 13 \t loss= 0.41486817250649133 \t error= 11.00166694323222 percent\n",
      "epoch= 14 \t loss= 0.40867231249809266 \t error= 10.91666696468989 percent\n",
      "epoch= 15 \t loss= 0.4031548813978831 \t error= 10.778333485126495 percent\n",
      "epoch= 16 \t loss= 0.39810088912645974 \t error= 10.70166685183843 percent\n",
      "epoch= 17 \t loss= 0.3935464816292127 \t error= 10.576666673024496 percent\n",
      "epoch= 18 \t loss= 0.38937060157457987 \t error= 10.505000193913776 percent\n",
      "epoch= 19 \t loss= 0.3855449691414833 \t error= 10.438333551088968 percent\n",
      "epoch= 20 \t loss= 0.38200683971246086 \t error= 10.37166694800059 percent\n",
      "epoch= 21 \t loss= 0.37871741553147636 \t error= 10.29000041882197 percent\n",
      "epoch= 22 \t loss= 0.3756210170686245 \t error= 10.233333547910055 percent\n",
      "epoch= 23 \t loss= 0.3728227680921555 \t error= 10.143333733081818 percent\n",
      "epoch= 24 \t loss= 0.3701381673415502 \t error= 10.078333616256714 percent\n",
      "epoch= 25 \t loss= 0.36761145368218423 \t error= 10.066666742165884 percent\n",
      "epoch= 26 \t loss= 0.3652675062914689 \t error= 10.010000228881836 percent\n",
      "epoch= 27 \t loss= 0.3630326822400093 \t error= 9.955000221729279 percent\n",
      "epoch= 28 \t loss= 0.3609437368313472 \t error= 9.895000318686167 percent\n",
      "epoch= 29 \t loss= 0.3589220236738523 \t error= 9.866666694482168 percent\n"
     ]
    }
   ],
   "source": [
    "for epoch in range(30):\n",
    "    \n",
    "    running_loss = 0\n",
    "    running_error = 0\n",
    "    num_batches = 0\n",
    "    \n",
    "    shuffled_indices = torch.randperm(60000)\n",
    "    \n",
    "    for count in range(0, 60000, bs):\n",
    "        \n",
    "        optimizer.zero_grad()\n",
    "        \n",
    "        indices = shuffled_indices[count:count+bs]\n",
    "        minibatch_data = train_data[indices]\n",
    "        minibatch_label = train_label[indices]\n",
    "        \n",
    "        inputs = minibatch_data.view(bs, 784)\n",
    "        \n",
    "        inputs.requires_grad_()\n",
    "        \n",
    "        scores = net(inputs)\n",
    "        \n",
    "        loss = criterion(scores, minibatch_label)\n",
    "        \n",
    "        loss.backward()\n",
    "        \n",
    "        optimizer.step()\n",
    "        \n",
    "        # compute and accumulate stats\n",
    "        \n",
    "        running_loss += loss.detach().item()\n",
    "        \n",
    "        error = utils.get_error(scores.detach(), minibatch_label)\n",
    "        running_error += error.item()\n",
    "        \n",
    "        num_batches += 1\n",
    "        \n",
    "    # compute stats for the full training set\n",
    "    total_loss = running_loss / num_batches\n",
    "    total_error = running_error / num_batches\n",
    "    \n",
    "    print('epoch=', epoch, '\\t loss=', total_loss, '\\t error=', total_error*100, 'percent')"
   ]
  },
  {
   "cell_type": "code",
   "execution_count": null,
   "metadata": {},
   "outputs": [],
   "source": []
  }
 ],
 "metadata": {
  "kernelspec": {
   "display_name": "Python 3",
   "language": "python",
   "name": "python3"
  },
  "language_info": {
   "codemirror_mode": {
    "name": "ipython",
    "version": 3
   },
   "file_extension": ".py",
   "mimetype": "text/x-python",
   "name": "python",
   "nbconvert_exporter": "python",
   "pygments_lexer": "ipython3",
   "version": "3.7.4"
  }
 },
 "nbformat": 4,
 "nbformat_minor": 2
}
