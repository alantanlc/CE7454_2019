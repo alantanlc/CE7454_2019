{
 "cells": [
  {
   "cell_type": "markdown",
   "metadata": {},
   "source": [
    "# Lab 05 : Final code -- demo"
   ]
  },
  {
   "cell_type": "code",
   "execution_count": 3,
   "metadata": {},
   "outputs": [],
   "source": [
    "# For Google Colaboratory\n",
    "import sys, os\n",
    "if 'google.colab' in sys.modules:\n",
    "    from google.colab import drive\n",
    "    drive.mount('/content/gdrive')\n",
    "    file_name = 'final_demo.ipynb'\n",
    "    import subprocess\n",
    "    path_to_file = subprocess.check_output('find . -type f -name ' + str(file_name), shell=True).decode(\"utf-8\")\n",
    "    print(path_to_file)\n",
    "    path_to_file = path_to_file.replace(file_name,\"\").replace('\\n',\"\")\n",
    "    os.chdir(path_to_file)\n",
    "    !pwd"
   ]
  },
  {
   "cell_type": "code",
   "execution_count": 4,
   "metadata": {},
   "outputs": [],
   "source": [
    "import torch\n",
    "import torch.nn as nn\n",
    "import torch.nn.functional as F\n",
    "import torch.optim as optim\n",
    "from random import randint\n",
    "import time\n",
    "import utils"
   ]
  },
  {
   "cell_type": "markdown",
   "metadata": {},
   "source": [
    "### Download the data"
   ]
  },
  {
   "cell_type": "code",
   "execution_count": 5,
   "metadata": {},
   "outputs": [],
   "source": [
    "from utils import check_mnist_dataset_exists\n",
    "data_path=check_mnist_dataset_exists()\n",
    "\n",
    "train_data=torch.load(data_path+'mnist/train_data.pt')\n",
    "train_label=torch.load(data_path+'mnist/train_label.pt')\n",
    "test_data=torch.load(data_path+'mnist/test_data.pt')\n",
    "test_label=torch.load(data_path+'mnist/test_label.pt')"
   ]
  },
  {
   "cell_type": "markdown",
   "metadata": {},
   "source": [
    "### Make a one layer net class. "
   ]
  },
  {
   "cell_type": "code",
   "execution_count": 6,
   "metadata": {},
   "outputs": [],
   "source": [
    "class one_layer_net(nn.Module):\n",
    "\n",
    "    def __init__(self, input_size, output_size):\n",
    "        super(one_layer_net , self).__init__()\n",
    "        self.linear_layer = nn.Linear( input_size, output_size , bias=False)\n",
    "        \n",
    "    def forward(self, x):\n",
    "        scores = self.linear_layer(x)\n",
    "        return scores"
   ]
  },
  {
   "cell_type": "markdown",
   "metadata": {},
   "source": [
    "### Build the net"
   ]
  },
  {
   "cell_type": "code",
   "execution_count": 12,
   "metadata": {},
   "outputs": [
    {
     "name": "stdout",
     "output_type": "stream",
     "text": [
      "one_layer_net(\n",
      "  (linear_layer): Linear(in_features=784, out_features=10, bias=False)\n",
      ")\n",
      "There are 7840 (0.01 million) parameters in this neural network\n"
     ]
    }
   ],
   "source": [
    "net=one_layer_net(784,10)\n",
    "\n",
    "print(net)\n",
    "utils.display_num_param(net)"
   ]
  },
  {
   "cell_type": "markdown",
   "metadata": {},
   "source": [
    "### Choose the criterion, batchsize"
   ]
  },
  {
   "cell_type": "code",
   "execution_count": 13,
   "metadata": {},
   "outputs": [],
   "source": [
    "criterion = nn.CrossEntropyLoss()\n",
    "\n",
    "bs=200"
   ]
  },
  {
   "cell_type": "markdown",
   "metadata": {},
   "source": [
    "### Evaluate on test set"
   ]
  },
  {
   "cell_type": "code",
   "execution_count": 14,
   "metadata": {},
   "outputs": [],
   "source": [
    "def eval_on_test_set():\n",
    "\n",
    "    running_error=0\n",
    "    num_batches=0\n",
    "\n",
    "    for i in range(0,10000,bs):\n",
    "\n",
    "        minibatch_data =  test_data[i:i+bs]\n",
    "        minibatch_label= test_label[i:i+bs]\n",
    "\n",
    "        inputs = minibatch_data.view(bs,784)\n",
    "\n",
    "        scores=net( inputs ) \n",
    "\n",
    "        error = utils.get_error( scores , minibatch_label)\n",
    "\n",
    "        running_error += error.item()\n",
    "\n",
    "        num_batches+=1\n",
    "\n",
    "\n",
    "    total_error = running_error/num_batches\n",
    "    print( 'test error  = ', total_error*100 ,'percent')"
   ]
  },
  {
   "cell_type": "markdown",
   "metadata": {},
   "source": [
    "### Training loop"
   ]
  },
  {
   "cell_type": "code",
   "execution_count": 15,
   "metadata": {},
   "outputs": [
    {
     "name": "stdout",
     "output_type": "stream",
     "text": [
      " \n",
      "epoch= 0  time= 0.823448896408081  loss= 0.8325826582312584  error= 17.948332965373993 percent lr= 0.05\n",
      "test error  =  12.259999990463257 percent\n",
      " \n",
      "epoch= 10  time= 8.433445692062378  loss= 0.3308516465127468  error= 9.208333392937979 percent lr= 0.05\n",
      "test error  =  8.65999984741211 percent\n",
      " \n",
      "epoch= 20  time= 16.22564125061035  loss= 0.30605158338944116  error= 8.509999950726826 percent lr= 0.03333333333333333\n",
      "test error  =  8.239999532699585 percent\n",
      " \n",
      "epoch= 30  time= 25.2508327960968  loss= 0.29756426125764845  error= 8.25666638215383 percent lr= 0.022222222222222223\n",
      "test error  =  8.120000004768372 percent\n",
      " \n",
      "epoch= 40  time= 34.31163477897644  loss= 0.29328706830739976  error= 8.15833326180776 percent lr= 0.014814814814814815\n",
      "test error  =  8.089999794960022 percent\n",
      " \n",
      "epoch= 50  time= 41.67644262313843  loss= 0.2908958262701829  error= 8.078333218892416 percent lr= 0.009876543209876543\n",
      "test error  =  8.049999952316284 percent\n",
      " \n",
      "epoch= 60  time= 48.70795273780823  loss= 0.28943569257855417  error= 8.024999936421711 percent lr= 0.006584362139917695\n",
      "test error  =  8.009999871253967 percent\n",
      " \n",
      "epoch= 70  time= 55.31010866165161  loss= 0.2885057983795802  error= 7.991666416327159 percent lr= 0.0043895747599451305\n",
      "test error  =  7.9299997091293335 percent\n",
      " \n",
      "epoch= 80  time= 62.442572832107544  loss= 0.28792604198058447  error= 7.986666460831961 percent lr= 0.0029263831732967535\n",
      "test error  =  7.929999828338623 percent\n",
      " \n",
      "epoch= 90  time= 68.88851070404053  loss= 0.28753803685307505  error= 7.968333065509796 percent lr= 0.001950922115531169\n",
      "test error  =  7.909999847412109 percent\n",
      " \n",
      "epoch= 100  time= 76.74204802513123  loss= 0.2872865002353986  error= 7.95499978462855 percent lr= 0.001300614743687446\n",
      "test error  =  7.909999847412109 percent\n",
      " \n",
      "epoch= 110  time= 84.5132622718811  loss= 0.28711943204204243  error= 7.9516665140787754 percent lr= 0.0008670764957916306\n",
      "test error  =  7.8999998569488525 percent\n",
      " \n",
      "epoch= 120  time= 91.62631964683533  loss= 0.2870084875822067  error= 7.9449995358785 percent lr= 0.0005780509971944203\n",
      "test error  =  7.8999998569488525 percent\n",
      " \n",
      "epoch= 130  time= 101.66594743728638  loss= 0.2869351895650228  error= 7.9416662851969395 percent lr= 0.0003853673314629469\n",
      "test error  =  7.8999998569488525 percent\n",
      " \n",
      "epoch= 140  time= 109.49160957336426  loss= 0.28688652848203977  error= 7.93999981880188 percent lr= 0.00025691155430863124\n",
      "test error  =  7.8999998569488525 percent\n",
      " \n",
      "epoch= 150  time= 117.09023380279541  loss= 0.2868540571630001  error= 7.938333094120026 percent lr= 0.0001712743695390875\n",
      "test error  =  7.8999998569488525 percent\n",
      " \n",
      "epoch= 160  time= 124.44900417327881  loss= 0.28683257788419725  error= 7.9366662700970965 percent lr= 0.00011418291302605833\n",
      "test error  =  7.8999998569488525 percent\n",
      " \n",
      "epoch= 170  time= 128.3601884841919  loss= 0.28681827028592427  error= 7.936666429042816 percent lr= 7.612194201737223e-05\n",
      "test error  =  7.8999998569488525 percent\n",
      " \n",
      "epoch= 180  time= 132.54363369941711  loss= 0.2868087739745776  error= 7.936666429042816 percent lr= 5.074796134491482e-05\n",
      "test error  =  7.8999998569488525 percent\n",
      " \n",
      "epoch= 190  time= 137.17310500144958  loss= 0.28680252571900683  error= 7.936666429042816 percent lr= 3.3831974229943214e-05\n",
      "test error  =  7.8999998569488525 percent\n"
     ]
    }
   ],
   "source": [
    "start = time.time()\n",
    "\n",
    "total_loss = 0\n",
    "total_error = 0\n",
    "\n",
    "lr = 0.05 # initial learning rate\n",
    "\n",
    "for epoch in range(200):\n",
    "    \n",
    "    # learning rate strategy : divide the learning rate by 1.5 every 10 epochs\n",
    "    if epoch%10==0 and epoch>10: \n",
    "        lr = lr / 1.5\n",
    "    \n",
    "    # create a new optimizer at the beginning of each epoch: give the current learning rate.   \n",
    "    optimizer=torch.optim.SGD( net.parameters() , lr=lr )\n",
    "        \n",
    "    running_loss=0\n",
    "    running_error=0\n",
    "    num_batches=0\n",
    "    \n",
    "    shuffled_indices=torch.randperm(60000)\n",
    " \n",
    "    for count in range(0,60000,bs):\n",
    "        \n",
    "        # forward and backward pass\n",
    "    \n",
    "        optimizer.zero_grad()\n",
    "        \n",
    "        indices=shuffled_indices[count:count+bs]\n",
    "        minibatch_data =  train_data[indices]\n",
    "        minibatch_label= train_label[indices]\n",
    "\n",
    "        inputs = minibatch_data.view(bs,784)\n",
    "\n",
    "        inputs.requires_grad_()\n",
    "\n",
    "        scores=net( inputs ) \n",
    "\n",
    "        loss =  criterion( scores , minibatch_label) \n",
    "        \n",
    "        loss.backward()\n",
    "\n",
    "        optimizer.step()\n",
    "        \n",
    "        \n",
    "        # compute some stats\n",
    "        \n",
    "        running_loss += loss.detach().item()\n",
    "               \n",
    "        error = utils.get_error( scores.detach() , minibatch_label)\n",
    "        running_error += error.item()\n",
    "        \n",
    "        num_batches+=1\n",
    "    \n",
    "    \n",
    "    # once the epoch is finished we divide the \"running quantities\"\n",
    "    # by the number of batches\n",
    "    \n",
    "    total_loss = running_loss/num_batches\n",
    "    total_error = running_error/num_batches\n",
    "    elapsed_time = time.time() - start\n",
    "    \n",
    "    # every 10 epoch we display the stats \n",
    "    # and compute the error rate on the test set  \n",
    "    \n",
    "    if epoch % 10 == 0 : \n",
    "    \n",
    "        print(' ')\n",
    "        \n",
    "        print('epoch=',epoch, ' time=', elapsed_time,\n",
    "              ' loss=', total_loss , ' error=', total_error*100 ,'percent lr=', lr)\n",
    "        \n",
    "        eval_on_test_set()\n",
    "               "
   ]
  },
  {
   "cell_type": "markdown",
   "metadata": {},
   "source": [
    "### Choose image at random from the test set and see how good/bad are the predictions"
   ]
  },
  {
   "cell_type": "code",
   "execution_count": 16,
   "metadata": {},
   "outputs": [
    {
     "data": {
      "image/png": "[encoded data removed]",
      "text/plain": [
       "<Figure size 432x288 with 1 Axes>"
      ]
     },
     "metadata": {
      "needs_background": "light"
     },
     "output_type": "display_data"
    },
    {
     "data": {
      "image/png": "[encoded data removed]",
      "text/plain": [
       "<Figure size 640x480 with 1 Axes>"
      ]
     },
     "metadata": {},
     "output_type": "display_data"
    }
   ],
   "source": [
    "# choose a picture at random\n",
    "idx=randint(0, 10000-1)\n",
    "im=test_data[idx]\n",
    "\n",
    "# diplay the picture\n",
    "utils.show(im)\n",
    "\n",
    "# feed it to the net and display the confidence scores\n",
    "scores =  net( im.view(1,784)) \n",
    "probs= F.softmax(scores, dim=1)\n",
    "utils.show_prob_mnist(probs)"
   ]
  },
  {
   "cell_type": "code",
   "execution_count": null,
   "metadata": {},
   "outputs": [],
   "source": []
  }
 ],
 "metadata": {
  "kernelspec": {
   "display_name": "Python 3",
   "language": "python",
   "name": "python3"
  },
  "language_info": {
   "codemirror_mode": {
    "name": "ipython",
    "version": 3
   },
   "file_extension": ".py",
   "mimetype": "text/x-python",
   "name": "python",
   "nbconvert_exporter": "python",
   "pygments_lexer": "ipython3",
   "version": "3.7.4"
  }
 },
 "nbformat": 4,
 "nbformat_minor": 2
}
