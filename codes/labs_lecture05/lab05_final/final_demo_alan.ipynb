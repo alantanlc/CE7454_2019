{
 "cells": [
  {
   "cell_type": "markdown",
   "metadata": {},
   "source": [
    "# Lab 05 : Final code -- demo"
   ]
  },
  {
   "cell_type": "code",
   "execution_count": 31,
   "metadata": {},
   "outputs": [],
   "source": [
    "import sys, os"
   ]
  },
  {
   "cell_type": "code",
   "execution_count": 32,
   "metadata": {},
   "outputs": [],
   "source": [
    "import torch\n",
    "import torch.nn as nn\n",
    "import torch.nn.functional as F\n",
    "import torch.optim as optim\n",
    "from random import randint\n",
    "import time\n",
    "import utils"
   ]
  },
  {
   "cell_type": "markdown",
   "metadata": {},
   "source": [
    "### Download the data"
   ]
  },
  {
   "cell_type": "code",
   "execution_count": 33,
   "metadata": {},
   "outputs": [],
   "source": [
    "from utils import check_mnist_dataset_exists\n",
    "data_path = check_mnist_dataset_exists()\n",
    "\n",
    "train_data = torch.load(data_path+'mnist/train_data.pt')\n",
    "train_label = torch.load(data_path+'mnist/train_label.pt')\n",
    "test_data = torch.load(data_path+'mnist/test_data.pt')\n",
    "test_label = torch.load(data_path+'mnist/test_label.pt')"
   ]
  },
  {
   "cell_type": "markdown",
   "metadata": {},
   "source": [
    "### Make a one layer net class"
   ]
  },
  {
   "cell_type": "code",
   "execution_count": 34,
   "metadata": {},
   "outputs": [],
   "source": [
    "class one_layer_net(nn.Module):\n",
    "    \n",
    "    def __init__(self, input_size, output_size):\n",
    "        super(one_layer_net, self).__init__()\n",
    "        self.linear_layer = nn.Linear(input_size, output_size, bias = False)\n",
    "        \n",
    "    def forward(self, x):\n",
    "        scores = self.linear_layer(x)\n",
    "        return scores"
   ]
  },
  {
   "cell_type": "markdown",
   "metadata": {},
   "source": [
    "### Build the net"
   ]
  },
  {
   "cell_type": "code",
   "execution_count": 35,
   "metadata": {},
   "outputs": [
    {
     "name": "stdout",
     "output_type": "stream",
     "text": [
      "one_layer_net(\n",
      "  (linear_layer): Linear(in_features=784, out_features=10, bias=False)\n",
      ")\n",
      "There are 7840 (0.01 million) parameters in this neural network\n"
     ]
    }
   ],
   "source": [
    "net = one_layer_net(784, 10)\n",
    "print(net)\n",
    "utils.display_num_param(net)"
   ]
  },
  {
   "cell_type": "markdown",
   "metadata": {},
   "source": [
    "### Choose the criterion, batchsize"
   ]
  },
  {
   "cell_type": "code",
   "execution_count": 36,
   "metadata": {},
   "outputs": [],
   "source": [
    "criterion = nn.CrossEntropyLoss()\n",
    "\n",
    "bs = 200"
   ]
  },
  {
   "cell_type": "markdown",
   "metadata": {},
   "source": [
    "### Evaluate on test set"
   ]
  },
  {
   "cell_type": "code",
   "execution_count": 37,
   "metadata": {},
   "outputs": [],
   "source": [
    "def eval_on_test_set():\n",
    "    \n",
    "    running_error = 0\n",
    "    num_batches = 0\n",
    "    \n",
    "    for i in range(0, 10000, bs):\n",
    "        \n",
    "        minibatch_data = test_data[i:i+bs]\n",
    "        minibatch_label = test_label[i:i+bs]\n",
    "        \n",
    "        inputs = minibatch_data.view(bs, 784)\n",
    "        \n",
    "        scores = net(inputs)\n",
    "        \n",
    "        error = utils.get_error(scores, minibatch_label)\n",
    "        \n",
    "        running_error += error.item()\n",
    "        \n",
    "        num_batches += 1\n",
    "        \n",
    "    total_error = running_error / num_batches\n",
    "    \n",
    "    print('test error = ', total_error * 100, 'percent')"
   ]
  },
  {
   "cell_type": "markdown",
   "metadata": {},
   "source": [
    "### Training loop"
   ]
  },
  {
   "cell_type": "code",
   "execution_count": 38,
   "metadata": {
    "scrolled": true
   },
   "outputs": [
    {
     "name": "stdout",
     "output_type": "stream",
     "text": [
      " \n",
      "epoch= 0  time= 0.3943138122558594  loss= 0.8311448476711909  error= 17.536666591962177 percent lr= 0.05\n",
      "test error =  12.090000033378601 percent\n",
      " \n",
      "epoch= 10  time= 3.868051290512085  loss= 0.33110802978277204  error= 9.223333438237507 percent lr= 0.05\n",
      "test error =  8.649999856948853 percent\n",
      " \n",
      "epoch= 20  time= 8.609192371368408  loss= 0.3062324909865856  error= 8.548333128293354 percent lr= 0.03333333333333333\n",
      "test error =  8.249999642372131 percent\n",
      " \n",
      "epoch= 30  time= 13.386154651641846  loss= 0.297750457127889  error= 8.288332978884378 percent lr= 0.022222222222222223\n",
      "test error =  8.129999876022339 percent\n",
      " \n",
      "epoch= 40  time= 17.76618766784668  loss= 0.2934968334933122  error= 8.174999813238779 percent lr= 0.014814814814814815\n",
      "test error =  8.049999952316284 percent\n",
      " \n",
      "epoch= 50  time= 24.871856212615967  loss= 0.2910620597501596  error= 8.093333025773367 percent lr= 0.009876543209876543\n",
      "test error =  8.009999871253967 percent\n",
      " \n",
      "epoch= 60  time= 33.74099254608154  loss= 0.28960577328999837  error= 8.051666299502056 percent lr= 0.006584362139917695\n",
      "test error =  7.979999780654907 percent\n",
      " \n",
      "epoch= 70  time= 42.74215912818909  loss= 0.2886890000104904  error= 8.01499984661738 percent lr= 0.0043895747599451305\n",
      "test error =  7.959999799728394 percent\n",
      " \n",
      "epoch= 80  time= 50.90389895439148  loss= 0.28809820001324016  error= 7.994999806086223 percent lr= 0.0029263831732967535\n",
      "test error =  7.949999809265136 percent\n",
      " \n",
      "epoch= 90  time= 57.990795612335205  loss= 0.28771138379971184  error= 7.981666445732117 percent lr= 0.001950922115531169\n",
      "test error =  7.949999690055848 percent\n",
      " \n",
      "epoch= 100  time= 65.27321982383728  loss= 0.28745758985479675  error= 7.966666340827942 percent lr= 0.001300614743687446\n",
      "test error =  7.919999718666077 percent\n",
      " \n",
      "epoch= 110  time= 73.54108810424805  loss= 0.2872905988494555  error= 7.9583331545194 percent lr= 0.0008670764957916306\n",
      "test error =  7.919999718666077 percent\n",
      " \n",
      "epoch= 120  time= 82.11286163330078  loss= 0.287180235038201  error= 7.956666509310405 percent lr= 0.0005780509971944203\n",
      "test error =  7.9299997091293335 percent\n",
      " \n",
      "epoch= 130  time= 89.35860681533813  loss= 0.2871061943471432  error= 7.956666549046834 percent lr= 0.0003853673314629469\n",
      "test error =  7.939999699592589 percent\n",
      " \n",
      "epoch= 140  time= 96.23163080215454  loss= 0.2870573980609576  error= 7.95333335796992 percent lr= 0.00025691155430863124\n",
      "test error =  7.939999699592589 percent\n",
      " \n",
      "epoch= 150  time= 103.4945776462555  loss= 0.28702473744750023  error= 7.951666613419851 percent lr= 0.0001712743695390875\n",
      "test error =  7.9299997091293335 percent\n",
      " \n",
      "epoch= 160  time= 112.54403233528137  loss= 0.2870031951367855  error= 7.953333179155986 percent lr= 0.00011418291302605833\n",
      "test error =  7.9299997091293335 percent\n",
      " \n",
      "epoch= 170  time= 121.53311371803284  loss= 0.2869888218740622  error= 7.949999908606212 percent lr= 7.612194201737223e-05\n",
      "test error =  7.9299997091293335 percent\n",
      " \n",
      "epoch= 180  time= 128.07030725479126  loss= 0.2869792810579141  error= 7.949999908606212 percent lr= 5.074796134491482e-05\n",
      "test error =  7.9299997091293335 percent\n",
      " \n",
      "epoch= 190  time= 135.6351101398468  loss= 0.2869730045398076  error= 7.9499996701876325 percent lr= 3.3831974229943214e-05\n",
      "test error =  7.9299997091293335 percent\n"
     ]
    }
   ],
   "source": [
    "start = time.time()\n",
    "\n",
    "total_loss = 0\n",
    "total_error = 0\n",
    "\n",
    "lr = 0.05 # initial learning rate\n",
    "\n",
    "for epoch in range(200):\n",
    "    \n",
    "    # learning rate strategy : divide the learning rate by 1.5 every 10 epochs\n",
    "    if epoch % 10 == 0 and epoch > 10:\n",
    "        lr = lr / 1.5\n",
    "        \n",
    "    # create a new optimizer at the beginning of each epoch: give the current learning rate.\n",
    "    optimizer = torch.optim.SGD(net.parameters(), lr = lr)\n",
    "    \n",
    "    running_loss = 0\n",
    "    running_error = 0\n",
    "    num_batches = 0\n",
    "    \n",
    "    shuffled_indices = torch.randperm(60000)\n",
    "    \n",
    "    for count in range(0, 60000, bs):\n",
    "        \n",
    "        # forward and backward pass\n",
    "        \n",
    "        optimizer.zero_grad()\n",
    "        \n",
    "        indices = shuffled_indices[count:count+bs]\n",
    "        minibatch_data = train_data[indices]\n",
    "        minibatch_label = train_label[indices]\n",
    "        \n",
    "        inputs = minibatch_data.view(bs, 784)\n",
    "        \n",
    "        inputs.requires_grad_()\n",
    "        \n",
    "        scores = net(inputs)\n",
    "        \n",
    "        loss = criterion(scores, minibatch_label)\n",
    "        \n",
    "        loss.backward()\n",
    "        \n",
    "        optimizer.step()\n",
    "        \n",
    "        # compute some stats\n",
    "        \n",
    "        running_loss += loss.detach().item()\n",
    "        \n",
    "        error = utils.get_error(scores.detach(), minibatch_label)\n",
    "        running_error += error.item()\n",
    "        \n",
    "        num_batches += 1\n",
    "        \n",
    "    # once the epoch is finished we divide the \"running quantities\"\n",
    "    # by the number of batches\n",
    "        \n",
    "    total_loss = running_loss / num_batches\n",
    "    total_error = running_error / num_batches\n",
    "    elapsed_time = time.time() - start\n",
    "    \n",
    "    # every 10 epoch we display the stats\n",
    "    # and compute the error rate on the test set\n",
    "    \n",
    "    if epoch % 10 == 0 :\n",
    "        \n",
    "        print(' ')\n",
    "        \n",
    "        print('epoch=', epoch, ' time=', elapsed_time,\n",
    "             ' loss=', total_loss, ' error=', total_error * 100, 'percent lr=', lr)\n",
    "        \n",
    "        eval_on_test_set()"
   ]
  },
  {
   "cell_type": "markdown",
   "metadata": {},
   "source": [
    "### Chooose image at random from the test set and see how good/bad are the predictions"
   ]
  },
  {
   "cell_type": "code",
   "execution_count": 39,
   "metadata": {},
   "outputs": [
    {
     "data": {
      "image/png": "[encoded data removed]",
      "text/plain": [
       "<Figure size 640x480 with 1 Axes>"
      ]
     },
     "metadata": {},
     "output_type": "display_data"
    },
    {
     "data": {
      "image/png": "[encoded data removed]",
      "text/plain": [
       "<Figure size 640x480 with 1 Axes>"
      ]
     },
     "metadata": {},
     "output_type": "display_data"
    }
   ],
   "source": [
    "idx = randint(0, 10000-1)\n",
    "im = test_data[idx]\n",
    "\n",
    "# display image\n",
    "utils.show(im)\n",
    "\n",
    "# feed it to the net and display the confidence scores\n",
    "scores = net(im.view(1, 784))\n",
    "prob = F.softmax(scores, dim=1)\n",
    "utils.show_prob_mnist(prob)"
   ]
  },
  {
   "cell_type": "code",
   "execution_count": null,
   "metadata": {},
   "outputs": [],
   "source": []
  }
 ],
 "metadata": {
  "kernelspec": {
   "display_name": "Python 3",
   "language": "python",
   "name": "python3"
  },
  "language_info": {
   "codemirror_mode": {
    "name": "ipython",
    "version": 3
   },
   "file_extension": ".py",
   "mimetype": "text/x-python",
   "name": "python",
   "nbconvert_exporter": "python",
   "pygments_lexer": "ipython3",
   "version": "3.7.4"
  }
 },
 "nbformat": 4,
 "nbformat_minor": 2
}
